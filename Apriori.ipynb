{
 "cells": [
  {
   "cell_type": "code",
   "execution_count": 35,
   "metadata": {},
   "outputs": [],
   "source": [
    "import pandas as pd\n",
    "import numpy as np\n",
    "import matplotlib.pyplot as plt\n",
    "from collections import defaultdict"
   ]
  },
  {
   "cell_type": "code",
   "execution_count": 36,
   "metadata": {},
   "outputs": [],
   "source": [
    "df = pd.read_csv('https://raw.githubusercontent.com/DzhamStriker/Assotiation-Rules/main/dataset.csv')"
   ]
  },
  {
   "cell_type": "code",
   "execution_count": 37,
   "metadata": {},
   "outputs": [
    {
     "data": {
      "text/html": [
       "<div>\n",
       "<style scoped>\n",
       "    .dataframe tbody tr th:only-of-type {\n",
       "        vertical-align: middle;\n",
       "    }\n",
       "\n",
       "    .dataframe tbody tr th {\n",
       "        vertical-align: top;\n",
       "    }\n",
       "\n",
       "    .dataframe thead th {\n",
       "        text-align: right;\n",
       "    }\n",
       "</style>\n",
       "<table border=\"1\" class=\"dataframe\">\n",
       "  <thead>\n",
       "    <tr style=\"text-align: right;\">\n",
       "      <th></th>\n",
       "      <th>0</th>\n",
       "      <th>1</th>\n",
       "      <th>2</th>\n",
       "      <th>3</th>\n",
       "      <th>4</th>\n",
       "      <th>5</th>\n",
       "      <th>6</th>\n",
       "    </tr>\n",
       "  </thead>\n",
       "  <tbody>\n",
       "    <tr>\n",
       "      <th>0</th>\n",
       "      <td>Bread</td>\n",
       "      <td>Wine</td>\n",
       "      <td>Eggs</td>\n",
       "      <td>Meat</td>\n",
       "      <td>Cheese</td>\n",
       "      <td>Pencil</td>\n",
       "      <td>Diaper</td>\n",
       "    </tr>\n",
       "    <tr>\n",
       "      <th>1</th>\n",
       "      <td>Bread</td>\n",
       "      <td>Cheese</td>\n",
       "      <td>Meat</td>\n",
       "      <td>Diaper</td>\n",
       "      <td>Wine</td>\n",
       "      <td>Milk</td>\n",
       "      <td>Pencil</td>\n",
       "    </tr>\n",
       "    <tr>\n",
       "      <th>2</th>\n",
       "      <td>Cheese</td>\n",
       "      <td>Meat</td>\n",
       "      <td>Eggs</td>\n",
       "      <td>Milk</td>\n",
       "      <td>Wine</td>\n",
       "      <td>NaN</td>\n",
       "      <td>NaN</td>\n",
       "    </tr>\n",
       "    <tr>\n",
       "      <th>3</th>\n",
       "      <td>Cheese</td>\n",
       "      <td>Meat</td>\n",
       "      <td>Eggs</td>\n",
       "      <td>Milk</td>\n",
       "      <td>Wine</td>\n",
       "      <td>NaN</td>\n",
       "      <td>NaN</td>\n",
       "    </tr>\n",
       "    <tr>\n",
       "      <th>4</th>\n",
       "      <td>Meat</td>\n",
       "      <td>Pencil</td>\n",
       "      <td>Wine</td>\n",
       "      <td>NaN</td>\n",
       "      <td>NaN</td>\n",
       "      <td>NaN</td>\n",
       "      <td>NaN</td>\n",
       "    </tr>\n",
       "    <tr>\n",
       "      <th>...</th>\n",
       "      <td>...</td>\n",
       "      <td>...</td>\n",
       "      <td>...</td>\n",
       "      <td>...</td>\n",
       "      <td>...</td>\n",
       "      <td>...</td>\n",
       "      <td>...</td>\n",
       "    </tr>\n",
       "    <tr>\n",
       "      <th>310</th>\n",
       "      <td>Bread</td>\n",
       "      <td>Eggs</td>\n",
       "      <td>Cheese</td>\n",
       "      <td>NaN</td>\n",
       "      <td>NaN</td>\n",
       "      <td>NaN</td>\n",
       "      <td>NaN</td>\n",
       "    </tr>\n",
       "    <tr>\n",
       "      <th>311</th>\n",
       "      <td>Meat</td>\n",
       "      <td>Milk</td>\n",
       "      <td>Pencil</td>\n",
       "      <td>NaN</td>\n",
       "      <td>NaN</td>\n",
       "      <td>NaN</td>\n",
       "      <td>NaN</td>\n",
       "    </tr>\n",
       "    <tr>\n",
       "      <th>312</th>\n",
       "      <td>Bread</td>\n",
       "      <td>Cheese</td>\n",
       "      <td>Eggs</td>\n",
       "      <td>Meat</td>\n",
       "      <td>Pencil</td>\n",
       "      <td>Diaper</td>\n",
       "      <td>Wine</td>\n",
       "    </tr>\n",
       "    <tr>\n",
       "      <th>313</th>\n",
       "      <td>Meat</td>\n",
       "      <td>Cheese</td>\n",
       "      <td>NaN</td>\n",
       "      <td>NaN</td>\n",
       "      <td>NaN</td>\n",
       "      <td>NaN</td>\n",
       "      <td>NaN</td>\n",
       "    </tr>\n",
       "    <tr>\n",
       "      <th>314</th>\n",
       "      <td>Eggs</td>\n",
       "      <td>Wine</td>\n",
       "      <td>Bagel</td>\n",
       "      <td>Bread</td>\n",
       "      <td>Meat</td>\n",
       "      <td>NaN</td>\n",
       "      <td>NaN</td>\n",
       "    </tr>\n",
       "  </tbody>\n",
       "</table>\n",
       "<p>315 rows × 7 columns</p>\n",
       "</div>"
      ],
      "text/plain": [
       "          0       1       2       3       4       5       6\n",
       "0     Bread    Wine    Eggs    Meat  Cheese  Pencil  Diaper\n",
       "1     Bread  Cheese    Meat  Diaper    Wine    Milk  Pencil\n",
       "2    Cheese    Meat    Eggs    Milk    Wine     NaN     NaN\n",
       "3    Cheese    Meat    Eggs    Milk    Wine     NaN     NaN\n",
       "4      Meat  Pencil    Wine     NaN     NaN     NaN     NaN\n",
       "..      ...     ...     ...     ...     ...     ...     ...\n",
       "310   Bread    Eggs  Cheese     NaN     NaN     NaN     NaN\n",
       "311    Meat    Milk  Pencil     NaN     NaN     NaN     NaN\n",
       "312   Bread  Cheese    Eggs    Meat  Pencil  Diaper    Wine\n",
       "313    Meat  Cheese     NaN     NaN     NaN     NaN     NaN\n",
       "314    Eggs    Wine   Bagel   Bread    Meat     NaN     NaN\n",
       "\n",
       "[315 rows x 7 columns]"
      ]
     },
     "execution_count": 37,
     "metadata": {},
     "output_type": "execute_result"
    }
   ],
   "source": [
    "df"
   ]
  },
  {
   "cell_type": "code",
   "execution_count": 38,
   "metadata": {},
   "outputs": [
    {
     "data": {
      "text/plain": [
       "array(['Bread', 'Cheese', 'Meat', 'Eggs', 'Wine', 'Bagel', 'Pencil',\n",
       "       'Diaper', 'Milk'], dtype=object)"
      ]
     },
     "execution_count": 38,
     "metadata": {},
     "output_type": "execute_result"
    }
   ],
   "source": [
    "items = (df['0'].unique())\n",
    "items"
   ]
  },
  {
   "cell_type": "code",
   "execution_count": 39,
   "metadata": {},
   "outputs": [],
   "source": [
    "itemset = set(items)\n",
    "encoded_vals = []\n",
    "for index, row in df.iterrows():\n",
    "    rowset = set(row) \n",
    "    labels = {}\n",
    "    uncommons = list(itemset - rowset)\n",
    "    commons = list(itemset.intersection(rowset))\n",
    "    for uc in uncommons:\n",
    "        labels[uc] = 0\n",
    "    for com in commons:\n",
    "        labels[com] = 1\n",
    "    encoded_vals.append(labels)\n",
    "encoded_vals[0]\n",
    "ohe_df = pd.DataFrame(encoded_vals)"
   ]
  },
  {
   "cell_type": "code",
   "execution_count": 40,
   "metadata": {},
   "outputs": [],
   "source": [
    "support = np.array([0 for i in range(9)])\n",
    "for index, row in ohe_df.iterrows():\n",
    "    s = np.array(row)\n",
    "    support += np.array(row)"
   ]
  },
  {
   "cell_type": "code",
   "execution_count": 41,
   "metadata": {},
   "outputs": [
    {
     "data": {
      "text/plain": [
       "['Bagel',\n",
       " 'Milk',\n",
       " 'Bread',\n",
       " 'Wine',\n",
       " 'Meat',\n",
       " 'Cheese',\n",
       " 'Eggs',\n",
       " 'Diaper',\n",
       " 'Pencil']"
      ]
     },
     "execution_count": 41,
     "metadata": {},
     "output_type": "execute_result"
    }
   ],
   "source": [
    "df2 = list(ohe_df.columns.values)\n",
    "#for i in support\n",
    "df2"
   ]
  },
  {
   "cell_type": "code",
   "execution_count": 42,
   "metadata": {},
   "outputs": [],
   "source": [
    "support2 = dict(zip(df2, support))"
   ]
  },
  {
   "cell_type": "code",
   "execution_count": 43,
   "metadata": {},
   "outputs": [],
   "source": [
    "from itertools import chain, combinations"
   ]
  },
  {
   "cell_type": "code",
   "execution_count": 44,
   "metadata": {},
   "outputs": [],
   "source": [
    "def return_min_support(items, transactions, min_support, freqSet):\n",
    "    items_t = set()\n",
    "    localSet = defaultdict(int)\n",
    "    for i in items:\n",
    "        #print(i)\n",
    "        for index, row in transactions.iterrows():\n",
    "            bool_in = 1\n",
    "            for item in i:\n",
    "                #print(item, row[item])\n",
    "                if row[item] == 0:\n",
    "                    bool_in = 0\n",
    "            if bool_in:\n",
    "                freqSet[i] += 1\n",
    "                localSet[i] += 1\n",
    "    for item, count in localSet.items():\n",
    "        support = float(count) / len(transactions)\n",
    "        if support > min_support:\n",
    "            items_t.add(item)\n",
    "    return items_t"
   ]
  },
  {
   "cell_type": "code",
   "execution_count": 45,
   "metadata": {},
   "outputs": [],
   "source": [
    "min_support = 0.2\n",
    "F = []\n",
    "F1 = set()\n",
    "for i in range(len(support2)):\n",
    "    if support[i] >= min_support:\n",
    "        F1.add(frozenset([df2[i]]))\n",
    "current_set = F1\n",
    "large_set = dict()\n",
    "k = 2\n",
    "#print(1)\n",
    "rules = dict()\n",
    "freqSet = defaultdict(int)\n",
    "for i in F1:\n",
    "    freqSet[i] = support2[list(i)[0]]\n",
    "#print(current_set)\n",
    "while (len(current_set) != 0):\n",
    "    large_set[k - 1] = current_set\n",
    "    current_set = set(i.union(j) for i in current_set for j in current_set if len(i.union(j)) == k)\n",
    "    #print(current_set)\n",
    "    next_set = return_min_support(current_set, ohe_df, min_support, freqSet)\n",
    "    current_set = next_set\n",
    "    k += 1"
   ]
  },
  {
   "cell_type": "code",
   "execution_count": 46,
   "metadata": {},
   "outputs": [],
   "source": [
    "def subsets(arr):\n",
    "    return chain(*[combinations(arr, i + 1) for i, a in enumerate(arr)])\n",
    "def getSupport(item):\n",
    "        \"\"\"local function which Returns the support of an item\"\"\"\n",
    "        return float(freqSet[item]) / len(ohe_df)"
   ]
  },
  {
   "cell_type": "code",
   "execution_count": 47,
   "metadata": {},
   "outputs": [],
   "source": [
    "#getSupport(F1[0])\n",
    "#getSupport(list(F1)[0])"
   ]
  },
  {
   "cell_type": "code",
   "execution_count": 48,
   "metadata": {},
   "outputs": [
    {
     "name": "stdout",
     "output_type": "stream",
     "text": [
      "[(('Diaper',), 0.40634920634920635), (('Wine',), 0.4380952380952381), (('Milk',), 0.5015873015873016), (('Bagel',), 0.4253968253968254), (('Eggs',), 0.4380952380952381), (('Bread',), 0.5047619047619047), (('Pencil',), 0.3619047619047619), (('Cheese',), 0.5015873015873016), (('Meat',), 0.47619047619047616), (('Diaper', 'Bread'), 0.23174603174603176), (('Wine', 'Milk'), 0.21904761904761905), (('Eggs', 'Cheese'), 0.2984126984126984), (('Bagel', 'Milk'), 0.2253968253968254), (('Meat', 'Cheese'), 0.3238095238095238), (('Bread', 'Wine'), 0.24444444444444444), (('Bread', 'Milk'), 0.27936507936507937), (('Eggs', 'Milk'), 0.24444444444444444), (('Bagel', 'Bread'), 0.27936507936507937), (('Wine', 'Cheese'), 0.2698412698412698), (('Bread', 'Cheese'), 0.23809523809523808), (('Meat', 'Wine'), 0.2507936507936508), (('Eggs', 'Wine'), 0.24126984126984127), (('Milk', 'Cheese'), 0.3047619047619048), (('Diaper', 'Wine'), 0.23492063492063492), (('Meat', 'Milk'), 0.24444444444444444), (('Bread', 'Meat'), 0.20634920634920634), (('Eggs', 'Meat'), 0.26666666666666666), (('Meat', 'Milk', 'Cheese'), 0.20317460317460317), (('Eggs', 'Meat', 'Cheese'), 0.21587301587301588)]\n"
     ]
    }
   ],
   "source": [
    "toRetItems = []\n",
    "for key, value in large_set.items():\n",
    "    toRetItems.extend([(tuple(item), getSupport(item)) for item in value])\n",
    "\n",
    "#проверка на confidence\n",
    "min_confidence = 1000\n",
    "toRetRules = []\n",
    "for key, value in list(large_set.items())[1:]:\n",
    "    for item in value:\n",
    "        _subsets = map(frozenset, [x for x in subsets(item)])\n",
    "        for element in _subsets:\n",
    "            remain = item.difference(element)\n",
    "            if len(remain) > 0:\n",
    "                confidence = getSupport(item) / getSupport(element)\n",
    "                if confidence >= min_confidence:\n",
    "                    print(confidence)\n",
    "                    toRetRules.append(((tuple(element), tuple(remain)), confidence))\n",
    "print(toRetItems)"
   ]
  }
 ],
 "metadata": {
  "kernelspec": {
   "display_name": "Python 3",
   "language": "python",
   "name": "python3"
  },
  "language_info": {
   "codemirror_mode": {
    "name": "ipython",
    "version": 3
   },
   "file_extension": ".py",
   "mimetype": "text/x-python",
   "name": "python",
   "nbconvert_exporter": "python",
   "pygments_lexer": "ipython3",
   "version": "3.7.0"
  }
 },
 "nbformat": 4,
 "nbformat_minor": 4
}
